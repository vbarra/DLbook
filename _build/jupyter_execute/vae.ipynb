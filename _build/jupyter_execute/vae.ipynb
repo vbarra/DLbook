{
 "cells": [
  {
   "cell_type": "markdown",
   "id": "2e8629e0",
   "metadata": {},
   "source": [
    "# Autoencodeurs variationnels\n",
    "Les autoencodeurs variationnels sont, comme les GAN (abordés dans le cours suivant), des modèles génératifs, c'est-à-dire des modèles probabilistes $p$ pouvant être utilisés pour \n",
    "simuler (ou générer) des données réalistes $x\\sim p(x,\\boldsymbol\\theta)$, aussi proches que possible de la vraie (mais inconnue) distribution des données $p(x)$, pour laquelle seul un échantillon de données est disponible.\n",
    "\n",
    "Le paysage de ces modèles génératifs s'est beaucoup peuplé depuis 2014 ({numref}`landscape`).\n",
    "\n",
    "\n",
    "\n",
    "```{figure} ./images/landscapegen.png\n",
    ":name: landscape\n",
    "Paysage des modèles génératifs (Source: [Song et al., CVPR 2023](https://cvpr2023.thecvf.com/virtual/2023/tutorial/18546))\n",
    "```\n",
    "\n",
    "Dans ce cours, nous aborderons uniquement les autoencodeurs variationnels (VAE) et les réseaux antagonistes générateurs (GAN).\n",
    "\n",
    "\n",
    "\n",
    "## Inférence variationnelle\n",
    "\n",
    "### Modèles à variables latentes\n",
    "\n",
    "Un modèle à variables latentes met en relation un ensemble de variables observables $\\boldsymbol x\\in \\mathcal X$ avec un ensemble de variables latentes  $\\boldsymbol h\\in \\mathcal H$\n",
    "\n",
    "$$p(\\boldsymbol x,\\boldsymbol h) = p(\\boldsymbol x|\\boldsymbol h)p(\\boldsymbol h)$$\n",
    "\n",
    "Si $\\boldsymbol h$ sont des facteurs causaux pour  $\\boldsymbol x$, alors échantillonner selon $p(\\boldsymbol x|\\boldsymbol h)$ permet de créer n modèle génératif de  $\\mathcal H$ vers $\\mathcal X$.\n",
    "\n",
    "Pour l'inférence, étant donnée $p(\\boldsymbol x,\\boldsymbol h)$, il \"suffit\" de calculer \n",
    "\n",
    "$$ p(\\boldsymbol h|\\boldsymbol x) = \\frac{p(\\boldsymbol x|\\boldsymbol h)p(\\boldsymbol h)}{p(\\boldsymbol x)}$$\n",
    "\n",
    "Malheureusement, $p(\\boldsymbol x)$ est inaccessible.\n",
    "\n",
    "### Inférence variationnelle\n",
    "\n",
    "L'inférence variationnelle transforme l'estimation de $p(\\boldsymbol h|\\boldsymbol x)$ en un problème d'optimisation.\n",
    "\n",
    "On considère une famille de distributions $q_{\\boldsymbol\\phi} (\\boldsymbol{h}|\\boldsymbol x)$ approchant $p(\\boldsymbol{h}|\\boldsymbol x)$, où $\\boldsymbol \\phi$ sont les paramètres variationnels. Ces paramètres sont optimisés pour minimiser une distance entre $q_{\\boldsymbol\\phi} (\\boldsymbol{h}|\\boldsymbol x)$ et $p(\\boldsymbol x,\\boldsymbol h)$. Parmi toutes les distances possibles, on retient la divergence de Kullback-Leibler\n",
    "\n",
    " $$KL(p\\|q) = \\sum_{x \\in X} p(x) \\log \\frac{p(x)}{q(x)}$$\n",
    "\n",
    "et ainsi : \n",
    "\n",
    "$$\\begin{align}\n",
    "KL( q_{\\boldsymbol\\phi} (\\boldsymbol{h}|\\boldsymbol x)|| p(\\boldsymbol h| \\boldsymbol  x)) &=& \\mathbb{E}_{ q_{\\boldsymbol\\phi} (\\boldsymbol{h}|\\boldsymbol x)} \\left [log\\frac{ q_{\\boldsymbol\\phi} (\\boldsymbol{h}|\\boldsymbol x)}{ p(\\boldsymbol{h}|\\boldsymbol x)} \\right ]\\\\\n",
    "&=& \\mathbb{E}_{ q_{\\boldsymbol\\phi} (\\boldsymbol{h}|\\boldsymbol x)}  \\left [ log(q_{\\boldsymbol\\phi} (\\boldsymbol{h}|\\boldsymbol x))-log(p(\\boldsymbol{x},\\boldsymbol h))\\right ] +log(p(\\boldsymbol x))\n",
    "\\end{align}$$\n",
    "\n",
    "Le dernier terme $log(p(\\boldsymbol x)$ reste cependant toujours inaccessible.\n",
    "\n",
    "\n",
    "## Autoencodeurs variationnels"
   ]
  }
 ],
 "metadata": {
  "jupytext": {
   "formats": "md:myst",
   "text_representation": {
    "extension": ".md",
    "format_name": "myst"
   }
  },
  "kernelspec": {
   "display_name": "Python 3",
   "language": "python",
   "name": "python3"
  },
  "language_info": {
   "codemirror_mode": {
    "name": "ipython",
    "version": 3
   },
   "file_extension": ".py",
   "mimetype": "text/x-python",
   "name": "python",
   "nbconvert_exporter": "python",
   "pygments_lexer": "ipython3",
   "version": "3.12.3"
  },
  "source_map": [
   11
  ]
 },
 "nbformat": 4,
 "nbformat_minor": 5
}