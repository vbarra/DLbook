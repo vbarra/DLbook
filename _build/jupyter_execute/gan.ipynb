{
 "cells": [
  {
   "cell_type": "markdown",
   "id": "09216324",
   "metadata": {},
   "source": [
    "# Réseaux antagonistes générateurs\n",
    "\n",
    "Dans les réseaux antagonistes génératifs (GAN: Generative Adversarial Networks), la tâche d'apprentissage d'un modèle génératif est exprimée comme un jeu à somme nulle à deux joueurs entre deux réseaux, le générateur $G$ et le discriminateur $D$ ({numref}`gan1`).\n",
    "\n",
    "\n",
    "```{figure} ./images/overview.png\n",
    ":name: gan1\n",
    "Architecture globale d'un GAN\n",
    "```\n",
    "\n",
    "Le générateur $G=G(.,\\boldsymbol\\theta): \\mathcal Z\\rightarrow \\mathcal X$ met en correspondance un espace latent équipé d'une distribution $p(z)$ avec l'espace des données, induisant ainsi une distribution \n",
    "\n",
    "$$x\\sim q(x,\\boldsymbol\\theta) \\Leftrightarrow z\\sim p(z), x=G(z,\\boldsymbol\\theta)$$\n",
    "\n",
    "Le discriminateur $D=D(.,\\boldsymbol\\phi): \\mathcal X\\rightarrow [0,1]$ est un classifieur entraîné pour distinguer les vrais exemples $x\\sim p(x)$ des exemples générés par $G$ $x\\sim q(x,\\boldsymbol\\theta)$\n",
    "\n",
    "Pour un $G$ fixé, $D$ peut-être entraîné en construisant un ensemble d'apprentissage\n",
    "\n",
    "$$\\mathcal E_a = \\{(x_i,1),i\\in[\\![1,N]\\!],(G(z_i,\\boldsymbol\\theta),1),i\\in[\\![1,N]\\!]\\}$$\n",
    "\n",
    "où $x_i\\sim  p(x)$ et $z_i\\sim  p(z)$, et en minimisant l'entropie croisée binaire\n",
    "\n",
    "$$\\begin{align}\n",
    "\\mathcal L(\\boldsymbol\\phi)&=& -\\frac{1}{2N}\\displaystyle\\sum_{i=1}^N \\left [log D(x_i,\\boldsymbol \\phi)+ log (1-D(G(z_i,\\boldsymbol\\theta),\\boldsymbol\\phi))\\right ]\\\\\n",
    "&\\approx& -\\mathbb{E}_{x\\sim p(x)}[log D(x_i,\\boldsymbol \\phi)] - \\mathbb{E}_{z\\sim p(z)}log (1-D(G(z_i,\\boldsymbol\\theta),\\boldsymbol\\phi))\n",
    "\\end{align}\n",
    "$$"
   ]
  }
 ],
 "metadata": {
  "jupytext": {
   "formats": "md:myst",
   "text_representation": {
    "extension": ".md",
    "format_name": "myst"
   }
  },
  "kernelspec": {
   "display_name": "Python 3",
   "language": "python",
   "name": "python3"
  },
  "language_info": {
   "codemirror_mode": {
    "name": "ipython",
    "version": 3
   },
   "file_extension": ".py",
   "mimetype": "text/x-python",
   "name": "python",
   "nbconvert_exporter": "python",
   "pygments_lexer": "ipython3",
   "version": "3.12.3"
  },
  "source_map": [
   11
  ]
 },
 "nbformat": 4,
 "nbformat_minor": 5
}